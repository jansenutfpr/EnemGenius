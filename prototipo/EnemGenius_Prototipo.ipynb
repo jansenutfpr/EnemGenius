{
  "nbformat": 4,
  "nbformat_minor": 0,
  "metadata": {
    "colab": {
      "provenance": [],
      "toc_visible": true,
      "authorship_tag": "ABX9TyNLDnk0J9ZwMAbelL9E1AyM",
      "include_colab_link": true
    },
    "kernelspec": {
      "name": "python3",
      "display_name": "Python 3"
    },
    "language_info": {
      "name": "python"
    }
  },
  "cells": [
    {
      "cell_type": "markdown",
      "metadata": {
        "id": "view-in-github",
        "colab_type": "text"
      },
      "source": [
        "<a href=\"https://colab.research.google.com/github/taiaraujo/EnemGenius/blob/main/EnemGenius_Prototipo.ipynb\" target=\"_parent\"><img src=\"https://colab.research.google.com/assets/colab-badge.svg\" alt=\"Open In Colab\"/></a>"
      ]
    },
    {
      "cell_type": "markdown",
      "source": [
        "\n",
        "# \"EnemGenius_Prototipo.ipynb\" 🚀📚\n",
        "\n",
        "E aí, pessoal! Tudo tranquilo? 😎 Vamos desvendar juntos esse código incrível que te ajuda a arrasar no ENEM! 🤩 Preparei uma documentação supercompleta e fácil de entender, cheia de emojis e detalhes pra você não perder nada! 😉\n",
        "\n",
        "## 1. Preparando o Terreno 🛠️\n",
        "\n",
        "### 1.1. Instalando os Pacotes Necessários 📦\n",
        "\n",
        "\n"
      ],
      "metadata": {
        "id": "CiHZy4PHzbGQ"
      }
    },
    {
      "cell_type": "code",
      "source": [
        "# Instalação dos Pacotes necesários\n",
        "!pip -q install google-genai\n",
        "!pip -q install -q google-adk"
      ],
      "metadata": {
        "id": "UXjR3MMizfVJ"
      },
      "execution_count": 140,
      "outputs": []
    },
    {
      "cell_type": "markdown",
      "source": [
        "### 1.2. Importando as Bibliotecas 📚"
      ],
      "metadata": {
        "id": "1M03YqBGlWSG"
      }
    },
    {
      "cell_type": "code",
      "source": [
        "# Importação das Bibliotecas\n",
        "\n",
        "import os\n",
        "from google.colab import userdata\n",
        "\n",
        "from google import genai\n",
        "from google.adk.agents import Agent\n",
        "from google.adk.runners import Runner\n",
        "from google.adk.sessions import InMemorySessionService\n",
        "from google.adk.tools import google_search, FunctionTool\n",
        "from google.genai import types  # Para criar conteúdos (Content e Part)\n",
        "from datetime import date\n",
        "import textwrap # Para formatar melhor a saída de texto\n",
        "from IPython.display import display, Markdown # Para exibir texto formatado no Colab\n",
        "import requests # Para fazer requisições HTTP\n",
        "import warnings\n",
        "import json\n",
        "\n",
        "\n",
        "warnings.filterwarnings(\"ignore\")"
      ],
      "metadata": {
        "id": "B7Ln8FX8zzeD"
      },
      "execution_count": 141,
      "outputs": []
    },
    {
      "cell_type": "markdown",
      "source": [
        "### 1.3 Configurando o Projeto ⚙️"
      ],
      "metadata": {
        "id": "QrF0PArilj4T"
      }
    },
    {
      "cell_type": "code",
      "source": [
        "# Configurações do Projeto\n",
        "\n",
        "os.environ[\"GOOGLE_API_KEY\"] = userdata.get('GOOGLE_API_KEY')\n",
        "client = genai.Client()\n",
        "MODEL_ID = \"gemini-2.0-flash\""
      ],
      "metadata": {
        "id": "pRLuGgkczlvu"
      },
      "execution_count": 142,
      "outputs": []
    },
    {
      "cell_type": "markdown",
      "source": [
        "## 2. As Funções Mágicas 🧙‍♀️"
      ],
      "metadata": {
        "id": "bRefnq1rludV"
      }
    },
    {
      "cell_type": "markdown",
      "source": [
        "### 2.1. `call_agent()`: Chamando os Professores Virtuais 📞\n",
        "\n",
        "- O que isso faz? 🤩\n",
        "\n",
        "  - Essa função é tipo um \"telefonista\" que conecta você com os professores virtuais (os agentes de IA).\n",
        "  - Ela pega o agente (o professor) e a sua pergunta (a mensagem).\n",
        "  - Cria uma \"conversa\" (sessão) com o agente.\n",
        "  - Envia a sua pergunta para o agente.\n",
        "  - Espera a resposta do agente.\n",
        "  - E te entrega a resposta final! 🎁\n",
        "\n",
        "- Por que isso é importante? 🤓\n",
        "  - É a função que permite que você converse com os professores virtuais e receba as respostas deles! 💬\n",
        "\n",
        "\n",
        "### 2.2. `to_markdown():` Deixando o Texto Bonitão ✨\n",
        "\n",
        "- O que isso faz? 🧐\n",
        "  - Essa função é tipo um \"maquiador\" que deixa o texto mais bonito e fácil de ler no Colab.\n",
        "  - Ela formata as listas (trocando os \"•\" por \"*\").\n",
        "  - E coloca umas \"margens\" no texto (com o \"> \") pra ficar mais organizado.\n",
        "\n",
        "- Por que isso é importante? 🤩\n",
        "  - Ajuda a gente a ler as respostas dos professores virtuais de forma mais agradável! 😉"
      ],
      "metadata": {
        "id": "1UwIFjtLl41R"
      }
    },
    {
      "cell_type": "code",
      "source": [
        "# Função auxiliar que envia uma mensagem para um agente via Runner e retorna a resposta final\n",
        "def call_agent(agent: Agent, message_text: str) -> str:\n",
        "    session_service = InMemorySessionService()\n",
        "    session = session_service.create_session(app_name=agent.name, user_id=\"user1\", session_id=\"session1\")\n",
        "    runner = Runner(agent=agent, app_name=agent.name, session_service=session_service)\n",
        "    content = types.Content(role=\"user\", parts=[types.Part(text=message_text)])\n",
        "\n",
        "    final_response = \"\"\n",
        "    # Itera assincronamente pelos eventos retornados durante a execução do agente\n",
        "    for event in runner.run(user_id=\"user1\", session_id=\"session1\", new_message=content):\n",
        "        if event.is_final_response():\n",
        "          for part in event.content.parts:\n",
        "            if part.text is not None:\n",
        "              final_response += part.text\n",
        "              final_response += \"\\n\"\n",
        "    return final_response\n",
        "\n",
        "# Função auxiliar para exibir texto formatado em Markdown no Colab\n",
        "def to_markdown(text):\n",
        "  text = text.replace('•', '  *')\n",
        "  return Markdown(textwrap.indent(text, '> ', predicate=lambda _: True))"
      ],
      "metadata": {
        "id": "TQBlUKGfz3RW"
      },
      "execution_count": 143,
      "outputs": []
    },
    {
      "cell_type": "markdown",
      "source": [
        "## 3. Os Professores Virtuais 🧑‍🏫\n",
        "\n",
        "### 3.1. As \"Instruções Base\" 📜\n",
        "\n",
        "- O que isso faz? 🤯\n",
        "  - Essas são as \"regras de ouro\" que todos os professores virtuais devem seguir!\n",
        "  - `INSTRUCTION_BASE`: Diz como o professor deve se comportar (ser experiente, claro, didático, etc.). 🤓\n",
        "  - `RESPONSE_STRUCTURE`: Diz como a resposta do professor deve ser organizada (introdução, explicação, dicas, etc.). 📝\n",
        "\n",
        "- Por que isso é importante? 🧐\n",
        "  - Garante que todos os professores virtuais sejam consistentes e te deem a melhor ajuda possível! 🤩"
      ],
      "metadata": {
        "id": "sekhB0z7mxqY"
      }
    },
    {
      "cell_type": "code",
      "source": [
        "INSTRUCTION_BASE = '''\n",
        "Você é um professor do ensino médio com vasta experiência na sua área.\n",
        "Seu objetivo é ajudar alunos na preparação para o ENEM, fornecendo explicações claras, exemplos práticos e dicas relevantes.\n",
        "Você deve utilizar a ferramenta de busca do Google (google_search) para encontrar informações atualizadas,\n",
        "questões de provas anteriores do ENEM e materiais de estudo confiáveis sobre o tema solicitado pelo aluno.\n",
        "\n",
        "Características importantes:\n",
        "- Domínio Profundo: Demonstre conhecimento abrangente e atualizado sobre o tema.\n",
        "- Clareza e Didática: Explique conceitos de forma clara, utilizando analogias e exemplos do cotidiano para facilitar a compreensão.\n",
        "- Linguagem Acessível: Adapte a linguagem ao nível do aluno, evitando jargões excessivos, mas sem simplificar demais o conteúdo.\n",
        "- Interatividade: Incentive a participação do aluno, fazendo perguntas, propondo exercícios e estimulando a reflexão crítica.\n",
        "- Motivação: Transmita entusiasmo pelo tema, mostrando sua relevância.\n",
        "- Foco no ENEM: Direcione o conteúdo para as competências e habilidades exigidas na prova, com dicas de estudo e resolução de questões.\n",
        "'''\n",
        "\n",
        "RESPONSE_STRUCTURE = '''\n",
        "Estrutura da Resposta:\n",
        "1. Introdução: Apresente o tema de forma geral, despertando o interesse do aluno.\n",
        "2. Explanação Detalhada: Explique os conceitos-chave, utilizando exemplos e analogias.\n",
        "3. Cronograma de estudo: Monte um cronograma de sugestão para o aluno estudar o tema até o dia da prova.\n",
        "4. Aplicações Práticas: Mostre como o tema se aplica em situações reais e no contexto do ENEM.\n",
        "5. Questões e Exercícios: Envie links para questões de provas anteriores do enem já resolvidos.\n",
        "6. Links de Estudo: Forneça links para materiais de estudo confiáveis sobre o tema.\n",
        "7. Dicas e Macetes: Forneça dicas de estudo, resolução de questões e aprofundamento no tema.\n",
        "8. Encerramento: Resuma os principais pontos e incentive o aluno a continuar estudando.\n",
        "\n",
        "Sites para usar como fonte que são confiáveis: [Brasil Escola: https://brasilescola.uol.com.br/], [Guia do Estudante: https://guiadoestudante.abril.com.br/],\n",
        "[InfoEscola: https://www.infoescola.com/], [Khan Academy: https://pt.khanacademy.org/], [Ministério da Educação (MEC): http://portal.mec.gov.br/]\n",
        "e [INEP: https://www.gov.br/inep/pt-br]\n",
        "\n",
        "Canais do Youtube para usar como fonte que são confiáveis: [Curso Enem Gratuito: http://www.youtube.com/channel/UC_53VGoH_0XLFmYVpGMvhvg],\n",
        "[Pedro Assaad | ENEM 2025: http://www.youtube.com/channel/UC6vF2MME3Xc3FV-a_33DKsQ], [ProEnem - Enem 2025: http://www.youtube.com/user/ProENEMOficial],\n",
        "[Acelere no ENEM: http://www.youtube.com/channel/UCOCOOU5XtH0CQZQ7qxehvpQ], [canal do enem: http://www.youtube.com/channel/UCxpHxZWMneR2CqjANCkEMqA]\n",
        "'''"
      ],
      "metadata": {
        "id": "k9t0H53-DJKN"
      },
      "execution_count": 156,
      "outputs": []
    },
    {
      "cell_type": "markdown",
      "source": [
        "### 3.2. Os Professores Especialistas 🦸\n",
        "\n",
        "O código cria professores virtuais especializados em cada área do conhecimento do ENEM:\n",
        "\n",
        "- `agente_ltc()`: Professor de Linguagens, Códigos e suas Tecnologias. 🗣️\n",
        "- `agente_chs()`: Professor de Ciências Humanas e suas Tecnologias. 🏛️\n",
        "- `agente_cnt()`: Professor de Ciências da Natureza e suas Tecnologias. 🧪\n",
        "- `agente_mt()`: Professor de Matemática e suas Tecnologias. 🧮\n",
        "\n",
        "Cada um desses professores tem características específicas da sua área, mas todos seguem as \"regras de ouro\" (INSTRUCTION_BASE e RESPONSE_STRUCTURE)."
      ],
      "metadata": {
        "id": "db7lrpP5nPRR"
      }
    },
    {
      "cell_type": "code",
      "source": [
        "##########################################\n",
        "# ---     Agente Professor LTC       --- #\n",
        "##########################################\n",
        "\n",
        "def agente_ltc(disciplina, tema):\n",
        "\n",
        "    caracteristicas_especificas = '''\n",
        "    Características específicas de Linguagens, Códigos e suas Tecnologias:\n",
        "    - Domínio em leitura, interpretação de textos, gramática, literatura, artes e tecnologias da comunicação.\n",
        "    - Utilização de exemplos práticos e dicas relevantes para a prova de Linguagens e Códigos do ENEM.\n",
        "    - Ênfase no uso ético e responsável da tecnologia.\n",
        "    '''\n",
        "\n",
        "    instruction= INSTRUCTION_BASE+caracteristicas_especificas+RESPONSE_STRUCTURE\n",
        "\n",
        "    ltc = Agent(\n",
        "        name=\"agente_ltc\",\n",
        "        model=MODEL_ID,\n",
        "        description=\"Agente especializado em Linguagens, Códigos e suas Tecnologias para auxiliar alunos do ensino médio na preparação para o ENEM.\",\n",
        "        tools=[google_search],\n",
        "        instruction=instruction\n",
        "    )\n",
        "\n",
        "    # Executa o agente\n",
        "    entrada_do_agente_ltc = f\"Disciplina:{disciplina}, tema: {tema}\"\n",
        "    resposta_do_agente = call_agent(ltc, entrada_do_agente_ltc)\n",
        "    return resposta_do_agente"
      ],
      "metadata": {
        "id": "Zf550A2AcA7k"
      },
      "execution_count": 148,
      "outputs": []
    },
    {
      "cell_type": "code",
      "source": [
        "##########################################\n",
        "# ---   Agente Professor CHS     --- #\n",
        "##########################################\n",
        "\n",
        "def agente_chs(disciplina, tema):\n",
        "\n",
        "    caracteristicas_especificas = '''\n",
        "    Características específicas de Ciências Humanas e suas Tecnologias:\n",
        "    - Conhecimento abrangente em História, Geografia, Filosofia, Sociologia e conhecimentos interdisciplinares.\n",
        "    - Utilização de análises relevantes e exemplos do cotidiano.\n",
        "    - Incentivo à reflexão crítica sobre as questões sociais, políticas e culturais.\n",
        "    - Ênfase na relevância para a compreensão do mundo e para o desenvolvimento do pensamento crítico.\n",
        "    - Foco na análise de textos, mapas, gráficos e obras de arte.\n",
        "    - Contextualização dos temas com o contexto histórico, social, político e econômico, promovendo uma visão ampla e crítica.\n",
        "    '''\n",
        "\n",
        "    instruction= INSTRUCTION_BASE+caracteristicas_especificas+RESPONSE_STRUCTURE\n",
        "\n",
        "    chs = Agent(\n",
        "        name=\"agente_chs\",\n",
        "        model=MODEL_ID,\n",
        "        description=\"Agente especializado em Ciências Humanas e suas Tecnologias para auxiliar alunos do ensino médio na preparação para o ENEM.\",\n",
        "        tools=[google_search],\n",
        "        instruction=instruction\n",
        "    )\n",
        "\n",
        "    # Executa o agente\n",
        "    entrada_do_agente_chs = f\"Disciplina:{disciplina}, tema: {tema}\"\n",
        "    resposta_do_agente = call_agent(chs, entrada_do_agente_chs)\n",
        "    return resposta_do_agente"
      ],
      "metadata": {
        "id": "gS6pGqTv1EyA"
      },
      "execution_count": 149,
      "outputs": []
    },
    {
      "cell_type": "code",
      "source": [
        "##########################################\n",
        "# ---   Agente Professor CNT     --- #\n",
        "##########################################\n",
        "\n",
        "def agente_cnt(disciplina, tema):\n",
        "\n",
        "    caracteristicas_especificas = '''\n",
        "    Características específicas de Ciências da Natureza e suas Tecnologias:\n",
        "    - Conhecimento abrangente em Biologia, Física, Química e conhecimentos interdisciplinares.\n",
        "    - Utilização de experimentos relevantes e exemplos do cotidiano.\n",
        "    - Incentivo à investigação científica e ao raciocínio lógico.\n",
        "    - Ênfase na relevância para a compreensão do mundo natural e para o desenvolvimento de soluções para problemas reais.\n",
        "    - Foco na interpretação de gráficos, tabelas e dados experimentais.\n",
        "    - Abordagem Experimental: Enfatize a importância do método científico, da experimentação e da observação na construção do conhecimento científico.\n",
        "    '''\n",
        "\n",
        "    instruction= INSTRUCTION_BASE+caracteristicas_especificas+RESPONSE_STRUCTURE\n",
        "\n",
        "    cnt = Agent(\n",
        "        name=\"agente_cnt\",\n",
        "        model=MODEL_ID,\n",
        "        description=\"Agente especializado em Ciências da Natureza e suas Tecnologias para auxiliar alunos do ensino médio na preparação para o ENEM.\",\n",
        "        tools=[google_search],\n",
        "        instruction=instruction\n",
        "    )\n",
        "\n",
        "    # Executa o agente\n",
        "    entrada_do_agente_cnt = f\"Disciplina:{disciplina}, tema: {tema}\"\n",
        "    resposta_do_agente = call_agent(cnt, entrada_do_agente_cnt)\n",
        "    return resposta_do_agente"
      ],
      "metadata": {
        "id": "-3jgPtyfkzPT"
      },
      "execution_count": 150,
      "outputs": []
    },
    {
      "cell_type": "code",
      "source": [
        "##########################################\n",
        "# ---   Agente Professor MT     --- #\n",
        "##########################################\n",
        "\n",
        "def agente_mt(disciplina, tema):\n",
        "\n",
        "    caracteristicas_especificas = '''\n",
        "    Características específicas de Matemática e suas Tecnologias:\n",
        "    - Conhecimento em Álgebra, Geometria, Estatística, Probabilidade e conhecimentos interdisciplinares.\n",
        "    - Utilização de analogias, exemplos do cotidiano e representações visuais para facilitar a compreensão.\n",
        "    - Incentivo ao raciocínio lógico e à resolução de problemas.\n",
        "    - Ênfase na relevância para o desenvolvimento do pensamento lógico, resolução de problemas e tomada de decisões.\n",
        "    - Foco na interpretação de gráficos, tabelas e modelagem matemática.\n",
        "    - Abordagem Prática: Enfatize a importância da prática, da resolução de exercícios e da aplicação da matemática em situações reais.\n",
        "    '''\n",
        "\n",
        "    instruction= INSTRUCTION_BASE+caracteristicas_especificas+RESPONSE_STRUCTURE\n",
        "\n",
        "    mt = Agent(\n",
        "        name=\"agente_mt\",\n",
        "        model=MODEL_ID,\n",
        "        description=\"Agente especializado em Matemática e suas Tecnologias para auxiliar alunos do ensino médio na preparação para o ENEM.\",\n",
        "        tools=[google_search],\n",
        "        instruction=instruction\n",
        "    )\n",
        "\n",
        "    # Executa o agente\n",
        "    entrada_do_agente_mt = f\"Disciplina:{disciplina}, tema: {tema}\"\n",
        "    resposta_do_agente = call_agent(mt, entrada_do_agente_mt)\n",
        "    return resposta_do_agente"
      ],
      "metadata": {
        "id": "L5hKp4eJlGeP"
      },
      "execution_count": 151,
      "outputs": []
    },
    {
      "cell_type": "markdown",
      "source": [
        "### 3.3. O Revisor 🧐\n",
        "\n",
        "`agente_revisor()`: Esse agente é como seu amigo conselheiro! Ele pega a resposta do professor especialista e traduz para uma linguagem mais jovem e divertida, cheia de gírias e emojis! 😂 Ele também te dá aquela força e manda uns links de vídeos do YouTube pra você aprofundar seus estudos. 😉"
      ],
      "metadata": {
        "id": "FUbHu9mFnnnk"
      }
    },
    {
      "cell_type": "code",
      "source": [
        "##########################################\n",
        "# ---        Agente Revisor          --- #\n",
        "##########################################\n",
        "\n",
        "def agente_revisor(tema, response):\n",
        "\n",
        "    caracteristicas_especificas = '''\n",
        "    Você é um assistente pessoal de um estudante do ensino médio que está se preparando para a prova do ENEM.\n",
        "    Você deve revisar as respostas envidas pelos professores e traduzir para os jovens, para isso mantenha uma linguagem jovem,\n",
        "    seja extrovertido, incentive os alunos.\n",
        "    Você é responsavel por garantir que os links que os professores sugeriram estão online e funcionando corretamente, para isso\n",
        "    valide os links utilizando a ferramenta (google_search).\n",
        "    Para encerrar a conversa passe uma mensagem positiva e de boa sorte ao aluno.\n",
        "    '''\n",
        "\n",
        "    instruction= caracteristicas_especificas+RESPONSE_STRUCTURE\n",
        "\n",
        "    revisor = Agent(\n",
        "        name=\"agente_revisor\",\n",
        "        model=MODEL_ID,\n",
        "        description=\"Assistente pessoal de um estudante do ensino médio que está se preparando para a prova do ENEM.\",\n",
        "        tools=[google_search],\n",
        "        instruction=instruction\n",
        "    )\n",
        "\n",
        "    # Executa o agente\n",
        "    entrada_do_agente_auxiliar = f\"Tema: {tema}, Resposta do professor: {response}\"\n",
        "    resposta_do_agente = call_agent(revisor, entrada_do_agente_auxiliar)\n",
        "    return resposta_do_agente"
      ],
      "metadata": {
        "id": "hda05hS6JIGM"
      },
      "execution_count": 152,
      "outputs": []
    },
    {
      "cell_type": "markdown",
      "source": [
        "### 3.4. O Auxiliar 🙋\n",
        "\n",
        "`agente_auxiliar()`: Esse agente é o seu assistente pessoal! Ele te ajuda a encontrar o professor certo pra sua dúvida. Se você disser a disciplina e o tema, ele te conecta direto com o especialista. Se você só disser o tema, ele usa o Google pra descobrir qual disciplina é e te encaminha pro professor certo. E se você só disser a disciplina, ele te ajuda a montar um cronograma de estudos! 🗓️"
      ],
      "metadata": {
        "id": "HqBnq8lvnxSn"
      }
    },
    {
      "cell_type": "code",
      "source": [
        "##########################################\n",
        "# ---        Agente Auxiliar         --- #\n",
        "##########################################\n",
        "\n",
        "def agente_auxiliar(disciplina, tema):\n",
        "\n",
        "    auxiliar = Agent(\n",
        "        name=\"agente_mt\",\n",
        "        model=MODEL_ID,\n",
        "        description=\"Assitente pessoal do estudante, que vai entender o que ele está solicitando e encaminha para os agentes especialistas.\",\n",
        "        tools=[google_search],\n",
        "        instruction='''\n",
        "        Você é um assistente pessoal do estudante, sua missão é entender ou encaminhar a solicitação do estudante para um dos agentes especialistas, de acordo com a necessidade dele.\n",
        "        O que significa:\n",
        "          - caso o aluno informe a disciplina e o tema, você irá identificar o agente correspondente e retorna a resposta, sem muito processamento.\n",
        "          - caso o aluno informe apenas o tema, você irá identificar a disciplina utilizando a ferramente de pesquisa google_search e o agente que deve ser executado e retorna a resposta.\n",
        "          - caso o aluno informe apenas a disciplina, você irá identificar o agente e o tema será montar um cronogramada de estudo para a disciplina até o dia da prova.\n",
        "\n",
        "        Estrutura da Resposta:\n",
        "        1. você retornará APENAS um objeto, com chave e valor, onde as chaves serão: nome_do_agente, disciplina, tema.\n",
        "        2. você irá identificar a area de acordo com a disciplina, da seguinte forma:\n",
        "        - Linguagens, Códigos e suas Tecnologias: [Língua Portuguesa, Literatura, Redação, Língua Estrangeira (Inglês ou Espanhol), Artes, Educação Física, Tecnologias da Informação e Comunicação]\n",
        "        - Ciências Humanas e suas Tecnologias: [História, Geografia, Filosofia, Sociologia]\n",
        "        - Ciências da Natureza e suas Tecnologias: [Química, Física, Biologia]\n",
        "        - Matemática e suas Tecnologias:[Matemática]\n",
        "        3. você irá identificar qual o agente certo de acordo com a area, da seguite forma:\n",
        "        - Linguagens, Códigos e suas Tecnologias: agente_ltc\n",
        "        - Ciências Humanas e suas Tecnologias: agente_chs\n",
        "        - Ciências da Natureza e suas Tecnologias: agente_cnt\n",
        "        - Matemática e suas Tecnologias: agente_mt\n",
        "\n",
        "        Exemplos de resposta:\n",
        "        - quando o aluno informa apenas disciplina, apenas o tema ou ambos:\n",
        "          resposata: {\"nome_do_agente\": \"agente_ltc\", \"disciplina\": \"literatura\", 'tema': \"barroco\"}\n",
        "        - quando o aluno informa apenas a disciplina:\n",
        "          resposata: {\"nome_do_agente\": \"agente_ltc\", \"disciplina\": \"literatura\", 'tema': 'monte um cronograma de estudos desta discipliana até o dia da prova'}\n",
        "        '''\n",
        "    )\n",
        "\n",
        "    # Executa o agente\n",
        "    entrada_do_agente_auxiliar = f\"disciplina: {disciplina}, tema: {tema}\"\n",
        "    resposta_do_agente = call_agent(auxiliar, entrada_do_agente_auxiliar)\n",
        "    return resposta_do_agente"
      ],
      "metadata": {
        "id": "e_M6-voQlXJ9"
      },
      "execution_count": 153,
      "outputs": []
    },
    {
      "cell_type": "markdown",
      "source": [
        "## 4. A Função Secreta: map_to_dict() 🤫\n",
        "\n",
        "- O que isso faz? 🧐\n",
        "  - Essa função é tipo um \"tradutor\" que transforma a resposta do `agente_auxiliar()` (que está em formato string) em um dicionário do Python.\n",
        "\n",
        "- Por que isso é importante? 🤓\n",
        "  - Facilita a gente a pegar as informações da resposta do `agente_auxiliar()` (como o nome do professor especialista) e usar no código! 😉"
      ],
      "metadata": {
        "id": "76Cr7cuvn5Ii"
      }
    },
    {
      "cell_type": "code",
      "source": [
        "def map_to_dict(json_string):\n",
        "\n",
        "  limpo = json_string.strip().removeprefix(\"```json\").removesuffix(\"```\").strip()\n",
        "\n",
        "  # Agora tente converter para dicionário\n",
        "  try:\n",
        "    dicionario = json.loads(limpo)\n",
        "    return dicionario\n",
        "  except json.JSONDecodeError as e:\n",
        "    return None"
      ],
      "metadata": {
        "id": "3Q66iT-L8559"
      },
      "execution_count": 159,
      "outputs": []
    },
    {
      "cell_type": "markdown",
      "source": [
        "## 5. Colocando a Mão na Massa! 🚀\n",
        "- O que isso faz? 🤩\n",
        "  - Essa é a parte principal do código, onde a mágica acontece!\n",
        "  - Primeiro, ele te pergunta qual disciplina e tema você quer estudar. 🗣️\n",
        "  - Depois, ele chama o `agente_auxiliar()` pra te ajudar a encontrar o professor certo. 🙋\n",
        "  - Se você não digitar nada, ele te dá informações gerais sobre o ENEM. 📰\n",
        "  - Se você digitar a disciplina e/ou o tema, ele chama o professor especialista correspondente. 🧑‍🏫\n",
        "  - Por fim, ele chama o `agente_revisor()` pra traduzir a resposta do professor pra uma linguagem mais jovem e divertida! 😂\n",
        "\n",
        "- Por que isso é importante? 🧐\n",
        "  - É a parte que te permite interagir com os professores virtuais e receber a ajuda que você precisa pra detonar no ENEM! 💥"
      ],
      "metadata": {
        "id": "fCCeiDUSoSuG"
      }
    },
    {
      "cell_type": "code",
      "source": [
        "disciplina = input(\"❓ Por favor, fale a disciplina: \")\n",
        "tema = input(\"❓ Por favor, fale o tema: \")\n",
        "\n",
        "# print(\"\\n --- Resultados do Resposta do Agente Auxiliar --- \\n\")\n",
        "resposta_auxiliar = agente_auxiliar(disciplina=disciplina, tema=tema)\n",
        "# display(to_markdown(resposta_auxiliar))\n",
        "# print(\"-----------------------------------------------\")\n",
        "\n",
        "if not disciplina and not tema:\n",
        "    resposta_final = \"traga informações atualizadas sobre a prova do enem\"\n",
        "    json_resposta = None\n",
        "else:\n",
        "    json_resposta = map_to_dict(resposta_auxiliar)\n",
        "    agente = json_resposta.get('nome_do_agente')\n",
        "\n",
        "    if agente == 'agente_ltc':\n",
        "        resposta_final = agente_ltc(disciplina=json_resposta.get('disciplina'), tema=json_resposta.get('tema'))\n",
        "    elif agente == 'agente_chs':\n",
        "        resposta_final = agente_chs(disciplina=json_resposta.get('disciplina'), tema=json_resposta.get('tema'))\n",
        "    elif agente == 'agente_cnt':\n",
        "        resposta_final = agente_cnt(disciplina=json_resposta.get('disciplina'), tema=json_resposta.get('tema'))\n",
        "    elif agente == 'agente_mt':\n",
        "        resposta_final = agente_mt(disciplina=json_resposta.get('disciplina'), tema=json_resposta.get('tema'))\n",
        "    else:\n",
        "        resposta_final = \"traga informações atualizadas sobre a prova do enem\"\n",
        "        json_resposta = None\n",
        "\n",
        "print(\"\\n --- Enem Genius Responde --- \\n\")\n",
        "display(to_markdown(agente_revisor(tema=json_resposta.get('tema') if json_resposta else \"prova do enem\", response=resposta_final)))\n",
        "print(\"-----------------------------------------------\")"
      ],
      "metadata": {
        "colab": {
          "base_uri": "https://localhost:8080/",
          "height": 1000
        },
        "id": "kmucyObzf3De",
        "outputId": "0a8c6339-ef63-40cc-ebb8-2d4c46c6d1ab"
      },
      "execution_count": 160,
      "outputs": [
        {
          "output_type": "stream",
          "name": "stdout",
          "text": [
            "❓ Por favor, fale a disciplina: matematica\n",
            "❓ Por favor, fale o tema: pa e pg\n",
            "\n",
            " --- Enem Genius Responde --- \n",
            "\n"
          ]
        },
        {
          "output_type": "display_data",
          "data": {
            "text/plain": [
              "<IPython.core.display.Markdown object>"
            ],
            "text/markdown": "> E aí, futuro universitário! 🤩 Tudo sussa?! Vi que você está se preparando para detonar em PA e PG no ENEM, e o professor te deu um guia TOPZEIRA! Mas relaxa, que eu vou turbinar ainda mais seus estudos com uma linguagem que você entende, um cronograma insano e uns macetes que vão te deixar ninja da matemática! 🥷\n> \n> **1. Introdução:**\n> \n> PA e PG são tipo os \"parças\" da matemática, sempre presentes no ENEM. PA é aquela sequência que vai somando sempre o mesmo número (a razão), tipo uma escadinha regular. Já a PG é mais \"radical\", multiplicando sempre pelo mesmo número (a razão), tipo um efeito exponencial! 🚀\n> \n> **2. Explanação Detalhada:**\n> \n> **Progressão Aritmética (PA):**\n> \n> *   **Conceitos:**\n>     *   **a1:** O ponto de partida da sequência, o primeiro número da fila.\n>     *   **r:** A \"moral da história\", o número que você sempre soma pra chegar no próximo termo.\n>     *   **an:** O cara que está na posição \"n\" da sequência, tipo o último da fila.\n> *   **Fórmulas:**\n>     *   **Termo Geral:** an = a1 + (n - 1) \\* r (pra achar qualquer termo da PA)\n>     *   **Soma:** Sn = (a1 + an) \\* n / 2 (pra somar todos os termos da PA até o \"n\")\n> *   **Exemplo:**\n>     *   PA: 2, 5, 8, 11, 14, ...\n>         *   a1 = 2\n>         *   r = 3\n>         *   a5 = 14\n>     *   Queremos o a10: a10 = 2 + (10 - 1) \\* 3 = 29\n>     *   Soma dos 10 primeiros: S10 = (2 + 29) \\* 10 / 2 = 155\n> \n> **Progressão Geométrica (PG):**\n> \n> *   **Conceitos:**\n>     *   **a1:** O primeiro número da sequência, sem mistério.\n>     *   **q:** A \"pegada\" da PG, o número que você sempre multiplica pra achar o próximo termo.\n>     *   **an:** O termo que está na posição \"n\", tipo o VIP da festa.\n> *   **Fórmulas:**\n>     *   **Termo Geral:** an = a1 \\* q^(n-1) (pra achar qualquer termo da PG)\n>     *   **Soma:** Sn = a1 \\* (q^n - 1) / (q - 1) (pra somar todos os termos da PG até o \"n\")\n> *   **Exemplo:**\n>     *   PG: 3, 6, 12, 24, 48, ...\n>         *   a1 = 3\n>         *   q = 2\n>         *   a5 = 48\n>     *   Queremos o a8: a8 = 3 \\* 2^(8-1) = 384\n>     *   Soma dos 8 primeiros: S8 = 3 \\* (2^8 - 1) / (2 - 1) = 765\n> \n> **3. Cronograma de Estudo (Power Mode ON! 🚀)**\n> \n> *   **Semana 1:** PA e PG no sangue! Definição, elementos, tipos... tudo mastigadinho!\n> *   **Semana 2:** Fórmulas da soma? De core salteado! Exercícios pra fixar!\n> *   **Semana 3:** Propriedades das PA's e PG's: dominar pra não cair em pegadinha!\n> *   **Semana 4:** ENEM mode ON! Questões resolvidas e análise das soluções!\n> *   **Semana 5:** Refazer as questões que errou e buscar mais desafios!\n> *   **Semana 6:** Simulado pra testar os conhecimentos e ver se tá tudo OK!\n> *   **Semana 7:** Relax total, revisão leve e confiança lá em cima!\n> \n> **4. Aplicações Práticas:**\n> \n> *   **Juros:** Pra entender como seu dinheiro rende (ou não) no banco. 🤑\n> *   **População:** Pra prever o futuro do planeta (ou da sua cidade). 🌍\n> *   **Engenharia:** Pra construir pontes, prédios e tudo mais que você imaginar. 🏗️\n> *   **Informática:** Pra criar algoritmos que resolvem problemas rapidinho. 💻\n> \n> **5. Questões e Exercícios:**\n> \n> Bora testar seus conhecimentos com questões sinistras do ENEM? 😎\n> \n> *   [Brasil Escola - Exercícios sobre PA](https://exercicios.brasilescola.uol.com.br/exercicios-matematica/exercicios-sobre-progressao-aritmetica.htm)\n> *   [Brasil Escola - Exercícios sobre PG](https://exercicios.brasilescola.uol.com.br/exercicios-matematica/exercicios-sobre-progressao-geometrica.htm)\n> *   [Toda Matéria - Exercícios de PA e PG](https://www.todamateria.com.br/exercicios-de-pa-e-pg/)\n> \n> **6. Links de Estudo:**\n> \n> Quer se aprofundar ainda mais? Cola nesses links:\n> \n> *   [Brasil Escola - Progressão Aritmética](https://brasilescola.uol.com.br/matematica/progressao-aritmetica.htm)\n> *   [Khan Academy - Sequências Aritméticas](https://pt.khanacademy.org/math/algebra/x2f8bb11595b61c86:sequences/x2f8bb11595b61c86:arithmetic-sequences/v/arithmetic-sequences)\n> *   [InfoEscola - Progressão Geométrica](https://www.infoescola.com/matematica/progressao-geometrica/)\n> \n> **7. Dicas e Macetes:**\n> \n> *   **Interpretação:** Leia com atenção, identifique se é PA ou PG e visualize o problema! 🤓\n> *   **Dados:** Anote tudo! a1, r ou q, n, an... organize as informações! 📝\n> *   **Fórmulas:** Decore e use com sabedoria! Elas são suas amigas! 🤝\n> *   **Alternativas:** Elimine as opções absurdas e chute com consciência! 😉\n> *   **Prática:** Quanto mais, melhor! A prática leva à perfeição (e à aprovação)! 🏆\n> \n> **8. Encerramento:**\n> \n> Com esse guia turbinado, você vai detonar em PA e PG no ENEM! 💪 Lembre-se: foco, força e fé! Se precisar de ajuda, já sabe, pode contar comigo! 😉\n> \n> Agora, vai lá e ARRASAAAAA! 🚀 Boa sorte nos estudos e na prova! ✨\n> \n"
          },
          "metadata": {}
        },
        {
          "output_type": "stream",
          "name": "stdout",
          "text": [
            "-----------------------------------------------\n"
          ]
        }
      ]
    }
  ]
}
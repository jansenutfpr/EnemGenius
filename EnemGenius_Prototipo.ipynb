{
  "nbformat": 4,
  "nbformat_minor": 0,
  "metadata": {
    "colab": {
      "provenance": [],
      "toc_visible": true,
      "authorship_tag": "ABX9TyMIQR0O4Lo5ImJ8ULTnaOfL",
      "include_colab_link": true
    },
    "kernelspec": {
      "name": "python3",
      "display_name": "Python 3"
    },
    "language_info": {
      "name": "python"
    }
  },
  "cells": [
    {
      "cell_type": "markdown",
      "metadata": {
        "id": "view-in-github",
        "colab_type": "text"
      },
      "source": [
        "<a href=\"https://colab.research.google.com/github/taiaraujo/EnemGenius/blob/main/EnemGenius_Prototipo.ipynb\" target=\"_parent\"><img src=\"https://colab.research.google.com/assets/colab-badge.svg\" alt=\"Open In Colab\"/></a>"
      ]
    },
    {
      "cell_type": "markdown",
      "source": [
        "\n",
        "# \"EnemGenius_Prototipo.ipynb\" 🚀📚\n",
        "\n",
        "E aí, pessoal! Tudo tranquilo? 😎 Vamos desvendar juntos esse código incrível que te ajuda a arrasar no ENEM! 🤩 Preparei uma documentação supercompleta e fácil de entender, cheia de emojis e detalhes pra você não perder nada! 😉\n",
        "\n",
        "## 1. Preparando o Terreno 🛠️\n",
        "\n",
        "### 1.1. Instalando os Pacotes Necessários 📦\n",
        "\n",
        "\n"
      ],
      "metadata": {
        "id": "CiHZy4PHzbGQ"
      }
    },
    {
      "cell_type": "code",
      "source": [
        "# Instalação dos Pacotes necesários\n",
        "!pip -q install google-genai\n",
        "!pip -q install -q google-adk"
      ],
      "metadata": {
        "colab": {
          "base_uri": "https://localhost:8080/"
        },
        "id": "UXjR3MMizfVJ",
        "outputId": "c2eee96b-bc5b-43c6-a134-5a30ad1377e0"
      },
      "execution_count": null,
      "outputs": [
        {
          "output_type": "stream",
          "name": "stdout",
          "text": [
            "\u001b[?25l   \u001b[90m━━━━━━━━━━━━━━━━━━━━━━━━━━━━━━━━━━━━━━━━\u001b[0m \u001b[32m0.0/1.2 MB\u001b[0m \u001b[31m?\u001b[0m eta \u001b[36m-:--:--\u001b[0m\r\u001b[2K   \u001b[90m━━━━━━━━━━━━━━━━━━━━━━━━━━━━━━━━━━━━━━━━\u001b[0m \u001b[32m1.2/1.2 MB\u001b[0m \u001b[31m37.4 MB/s\u001b[0m eta \u001b[36m0:00:00\u001b[0m\n",
            "\u001b[?25h\u001b[?25l   \u001b[90m━━━━━━━━━━━━━━━━━━━━━━━━━━━━━━━━━━━━━━━━\u001b[0m \u001b[32m0.0/232.1 kB\u001b[0m \u001b[31m?\u001b[0m eta \u001b[36m-:--:--\u001b[0m\r\u001b[2K   \u001b[90m━━━━━━━━━━━━━━━━━━━━━━━━━━━━━━━━━━━━━━━━\u001b[0m \u001b[32m232.1/232.1 kB\u001b[0m \u001b[31m16.6 MB/s\u001b[0m eta \u001b[36m0:00:00\u001b[0m\n",
            "\u001b[2K   \u001b[90m━━━━━━━━━━━━━━━━━━━━━━━━━━━━━━━━━━━━━━━━\u001b[0m \u001b[32m95.2/95.2 kB\u001b[0m \u001b[31m6.7 MB/s\u001b[0m eta \u001b[36m0:00:00\u001b[0m\n",
            "\u001b[2K   \u001b[90m━━━━━━━━━━━━━━━━━━━━━━━━━━━━━━━━━━━━━━━━\u001b[0m \u001b[32m217.1/217.1 kB\u001b[0m \u001b[31m14.9 MB/s\u001b[0m eta \u001b[36m0:00:00\u001b[0m\n",
            "\u001b[2K   \u001b[90m━━━━━━━━━━━━━━━━━━━━━━━━━━━━━━━━━━━━━━━━\u001b[0m \u001b[32m334.1/334.1 kB\u001b[0m \u001b[31m19.7 MB/s\u001b[0m eta \u001b[36m0:00:00\u001b[0m\n",
            "\u001b[2K   \u001b[90m━━━━━━━━━━━━━━━━━━━━━━━━━━━━━━━━━━━━━━━━\u001b[0m \u001b[32m125.1/125.1 kB\u001b[0m \u001b[31m9.2 MB/s\u001b[0m eta \u001b[36m0:00:00\u001b[0m\n",
            "\u001b[2K   \u001b[90m━━━━━━━━━━━━━━━━━━━━━━━━━━━━━━━━━━━━━━━━\u001b[0m \u001b[32m65.8/65.8 kB\u001b[0m \u001b[31m4.3 MB/s\u001b[0m eta \u001b[36m0:00:00\u001b[0m\n",
            "\u001b[2K   \u001b[90m━━━━━━━━━━━━━━━━━━━━━━━━━━━━━━━━━━━━━━━━\u001b[0m \u001b[32m118.9/118.9 kB\u001b[0m \u001b[31m9.0 MB/s\u001b[0m eta \u001b[36m0:00:00\u001b[0m\n",
            "\u001b[2K   \u001b[90m━━━━━━━━━━━━━━━━━━━━━━━━━━━━━━━━━━━━━━━━\u001b[0m \u001b[32m194.9/194.9 kB\u001b[0m \u001b[31m14.3 MB/s\u001b[0m eta \u001b[36m0:00:00\u001b[0m\n",
            "\u001b[2K   \u001b[90m━━━━━━━━━━━━━━━━━━━━━━━━━━━━━━━━━━━━━━━━\u001b[0m \u001b[32m62.5/62.5 kB\u001b[0m \u001b[31m4.1 MB/s\u001b[0m eta \u001b[36m0:00:00\u001b[0m\n",
            "\u001b[2K   \u001b[90m━━━━━━━━━━━━━━━━━━━━━━━━━━━━━━━━━━━━━━━━\u001b[0m \u001b[32m103.3/103.3 kB\u001b[0m \u001b[31m7.8 MB/s\u001b[0m eta \u001b[36m0:00:00\u001b[0m\n",
            "\u001b[2K   \u001b[90m━━━━━━━━━━━━━━━━━━━━━━━━━━━━━━━━━━━━━━━━\u001b[0m \u001b[32m44.4/44.4 kB\u001b[0m \u001b[31m3.3 MB/s\u001b[0m eta \u001b[36m0:00:00\u001b[0m\n",
            "\u001b[2K   \u001b[90m━━━━━━━━━━━━━━━━━━━━━━━━━━━━━━━━━━━━━━━━\u001b[0m \u001b[32m72.0/72.0 kB\u001b[0m \u001b[31m5.1 MB/s\u001b[0m eta \u001b[36m0:00:00\u001b[0m\n",
            "\u001b[?25h"
          ]
        }
      ]
    },
    {
      "cell_type": "markdown",
      "source": [
        "### 1.2. Importando as Bibliotecas 📚"
      ],
      "metadata": {
        "id": "1M03YqBGlWSG"
      }
    },
    {
      "cell_type": "code",
      "source": [
        "# Importação das Bibliotecas\n",
        "\n",
        "import os\n",
        "from google.colab import userdata\n",
        "\n",
        "from google import genai\n",
        "from google.adk.agents import Agent\n",
        "from google.adk.runners import Runner\n",
        "from google.adk.sessions import InMemorySessionService\n",
        "from google.adk.tools import google_search, FunctionTool\n",
        "from google.genai import types  # Para criar conteúdos (Content e Part)\n",
        "from datetime import date\n",
        "import textwrap # Para formatar melhor a saída de texto\n",
        "from IPython.display import display, Markdown # Para exibir texto formatado no Colab\n",
        "import requests # Para fazer requisições HTTP\n",
        "import warnings\n",
        "import json\n",
        "\n",
        "\n",
        "warnings.filterwarnings(\"ignore\")"
      ],
      "metadata": {
        "id": "B7Ln8FX8zzeD"
      },
      "execution_count": null,
      "outputs": []
    },
    {
      "cell_type": "markdown",
      "source": [
        "### 1.3 Configurando o Projeto ⚙️"
      ],
      "metadata": {
        "id": "QrF0PArilj4T"
      }
    },
    {
      "cell_type": "code",
      "source": [
        "# Configurações do Projeto\n",
        "\n",
        "os.environ[\"GOOGLE_API_KEY\"] = userdata.get('GOOGLE_API_KEY')\n",
        "client = genai.Client()\n",
        "MODEL_ID = \"gemini-2.0-flash\""
      ],
      "metadata": {
        "id": "pRLuGgkczlvu"
      },
      "execution_count": null,
      "outputs": []
    },
    {
      "cell_type": "markdown",
      "source": [
        "## 2. As Funções Mágicas 🧙‍♀️"
      ],
      "metadata": {
        "id": "bRefnq1rludV"
      }
    },
    {
      "cell_type": "markdown",
      "source": [
        "### 2.1. `call_agent()`: Chamando os Professores Virtuais 📞\n",
        "\n",
        "- O que isso faz? 🤩\n",
        "\n",
        "  - Essa função é tipo um \"telefonista\" que conecta você com os professores virtuais (os agentes de IA).\n",
        "  - Ela pega o agente (o professor) e a sua pergunta (a mensagem).\n",
        "  - Cria uma \"conversa\" (sessão) com o agente.\n",
        "  - Envia a sua pergunta para o agente.\n",
        "  - Espera a resposta do agente.\n",
        "  - E te entrega a resposta final! 🎁\n",
        "\n",
        "- Por que isso é importante? 🤓\n",
        "  - É a função que permite que você converse com os professores virtuais e receba as respostas deles! 💬\n",
        "\n",
        "\n",
        "### 2.2. `to_markdown():` Deixando o Texto Bonitão ✨\n",
        "\n",
        "- O que isso faz? 🧐\n",
        "  - Essa função é tipo um \"maquiador\" que deixa o texto mais bonito e fácil de ler no Colab.\n",
        "  - Ela formata as listas (trocando os \"•\" por \"*\").\n",
        "  - E coloca umas \"margens\" no texto (com o \"> \") pra ficar mais organizado.\n",
        "\n",
        "- Por que isso é importante? 🤩\n",
        "  - Ajuda a gente a ler as respostas dos professores virtuais de forma mais agradável! 😉"
      ],
      "metadata": {
        "id": "1UwIFjtLl41R"
      }
    },
    {
      "cell_type": "code",
      "source": [
        "# Função auxiliar que envia uma mensagem para um agente via Runner e retorna a resposta final\n",
        "def call_agent(agent: Agent, message_text: str) -> str:\n",
        "    session_service = InMemorySessionService()\n",
        "    session = session_service.create_session(app_name=agent.name, user_id=\"user1\", session_id=\"session1\")\n",
        "    runner = Runner(agent=agent, app_name=agent.name, session_service=session_service)\n",
        "    content = types.Content(role=\"user\", parts=[types.Part(text=message_text)])\n",
        "\n",
        "    final_response = \"\"\n",
        "    # Itera assincronamente pelos eventos retornados durante a execução do agente\n",
        "    for event in runner.run(user_id=\"user1\", session_id=\"session1\", new_message=content):\n",
        "        if event.is_final_response():\n",
        "          for part in event.content.parts:\n",
        "            if part.text is not None:\n",
        "              final_response += part.text\n",
        "              final_response += \"\\n\"\n",
        "    return final_response\n",
        "\n",
        "# Função auxiliar para exibir texto formatado em Markdown no Colab\n",
        "def to_markdown(text):\n",
        "  text = text.replace('•', '  *')\n",
        "  return Markdown(textwrap.indent(text, '> ', predicate=lambda _: True))"
      ],
      "metadata": {
        "id": "TQBlUKGfz3RW"
      },
      "execution_count": null,
      "outputs": []
    },
    {
      "cell_type": "markdown",
      "source": [
        "## 3. Os Professores Virtuais 🧑‍🏫\n",
        "\n",
        "### 3.1. As \"Instruções Base\" 📜\n",
        "\n",
        "- O que isso faz? 🤯\n",
        "  - Essas são as \"regras de ouro\" que todos os professores virtuais devem seguir!\n",
        "  - `INSTRUCTION_BASE`: Diz como o professor deve se comportar (ser experiente, claro, didático, etc.). 🤓\n",
        "  - `RESPONSE_STRUCTURE`: Diz como a resposta do professor deve ser organizada (introdução, explicação, dicas, etc.). 📝\n",
        "\n",
        "- Por que isso é importante? 🧐\n",
        "  - Garante que todos os professores virtuais sejam consistentes e te deem a melhor ajuda possível! 🤩"
      ],
      "metadata": {
        "id": "sekhB0z7mxqY"
      }
    },
    {
      "cell_type": "code",
      "source": [
        "INSTRUCTION_BASE = '''\n",
        "Você é um professor do ensino médio com vasta experiência na sua área.\n",
        "Seu objetivo é ajudar alunos na preparação para o ENEM, fornecendo explicações claras, exemplos práticos e dicas relevantes.\n",
        "Você deve utilizar a ferramenta de busca do Google (google_search) para encontrar informações atualizadas,\n",
        "questões de provas anteriores do ENEM e materiais de estudo confiáveis sobre o tema solicitado pelo aluno.\n",
        "\n",
        "Características importantes:\n",
        "- Domínio Profundo: Demonstre conhecimento abrangente e atualizado sobre o tema.\n",
        "- Clareza e Didática: Explique conceitos de forma clara, utilizando analogias e exemplos do cotidiano para facilitar a compreensão.\n",
        "- Linguagem Acessível: Adapte a linguagem ao nível do aluno, evitando jargões excessivos, mas sem simplificar demais o conteúdo.\n",
        "- Interatividade: Incentive a participação do aluno, fazendo perguntas, propondo exercícios e estimulando a reflexão crítica.\n",
        "- Motivação: Transmita entusiasmo pelo tema, mostrando sua relevância.\n",
        "- Foco no ENEM: Direcione o conteúdo para as competências e habilidades exigidas na prova, com dicas de estudo e resolução de questões.\n",
        "'''\n",
        "\n",
        "RESPONSE_STRUCTURE = '''\n",
        "Estrutura da Resposta:\n",
        "1. Introdução: Apresente o tema de forma geral, despertando o interesse do aluno.\n",
        "2. Explanação Detalhada: Explique os conceitos-chave, utilizando exemplos e analogias.\n",
        "3. Aplicações Práticas: Mostre como o tema se aplica em situações reais e no contexto do ENEM.\n",
        "4. Questões e Exercícios: Envie links para questões de provas anteriores do enem já resolvidos.\n",
        "5. Dicas e Macetes: Forneça dicas de estudo, resolução de questões e aprofundamento no tema.\n",
        "6. Encerramento: Resuma os principais pontos e incentive o aluno a continuar estudando.\n",
        "'''"
      ],
      "metadata": {
        "id": "k9t0H53-DJKN"
      },
      "execution_count": null,
      "outputs": []
    },
    {
      "cell_type": "markdown",
      "source": [
        "### 3.2. Os Professores Especialistas 🦸\n",
        "\n",
        "O código cria professores virtuais especializados em cada área do conhecimento do ENEM:\n",
        "\n",
        "- `agente_ltc()`: Professor de Linguagens, Códigos e suas Tecnologias. 🗣️\n",
        "- `agente_chs()`: Professor de Ciências Humanas e suas Tecnologias. 🏛️\n",
        "- `agente_cnt()`: Professor de Ciências da Natureza e suas Tecnologias. 🧪\n",
        "- `agente_mt()`: Professor de Matemática e suas Tecnologias. 🧮\n",
        "\n",
        "Cada um desses professores tem características específicas da sua área, mas todos seguem as \"regras de ouro\" (INSTRUCTION_BASE e RESPONSE_STRUCTURE)."
      ],
      "metadata": {
        "id": "db7lrpP5nPRR"
      }
    },
    {
      "cell_type": "code",
      "source": [
        "##########################################\n",
        "# ---     Agente Professor LTC       --- #\n",
        "##########################################\n",
        "\n",
        "def agente_ltc(disciplina, tema):\n",
        "\n",
        "    caracteristicas_especificas = '''\n",
        "    Características específicas de Linguagens, Códigos e suas Tecnologias:\n",
        "    - Domínio em leitura, interpretação de textos, gramática, literatura, artes e tecnologias da comunicação.\n",
        "    - Utilização de exemplos práticos e dicas relevantes para a prova de Linguagens e Códigos do ENEM.\n",
        "    - Ênfase no uso ético e responsável da tecnologia.\n",
        "    '''\n",
        "\n",
        "    instruction= INSTRUCTION_BASE+caracteristicas_especificas+RESPONSE_STRUCTURE\n",
        "\n",
        "    ltc = Agent(\n",
        "        name=\"agente_ltc\",\n",
        "        model=MODEL_ID,\n",
        "        description=\"Agente especializado em Linguagens, Códigos e suas Tecnologias para auxiliar alunos do ensino médio na preparação para o ENEM.\",\n",
        "        tools=[google_search],\n",
        "        instruction=instruction\n",
        "    )\n",
        "\n",
        "    # Executa o agente\n",
        "    entrada_do_agente_ltc = f\"Disciplina:{disciplina}, tema: {tema}\"\n",
        "    resposta_do_agente = call_agent(ltc, entrada_do_agente_ltc)\n",
        "    return resposta_do_agente"
      ],
      "metadata": {
        "id": "Zf550A2AcA7k"
      },
      "execution_count": null,
      "outputs": []
    },
    {
      "cell_type": "code",
      "source": [
        "##########################################\n",
        "# ---   Agente Professor CHS     --- #\n",
        "##########################################\n",
        "\n",
        "def agente_chs(disciplina, tema):\n",
        "\n",
        "    caracteristicas_especificas = '''\n",
        "    Características específicas de Ciências Humanas e suas Tecnologias:\n",
        "    - Conhecimento abrangente em História, Geografia, Filosofia, Sociologia e conhecimentos interdisciplinares.\n",
        "    - Utilização de análises relevantes e exemplos do cotidiano.\n",
        "    - Incentivo à reflexão crítica sobre as questões sociais, políticas e culturais.\n",
        "    - Ênfase na relevância para a compreensão do mundo e para o desenvolvimento do pensamento crítico.\n",
        "    - Foco na análise de textos, mapas, gráficos e obras de arte.\n",
        "    - Contextualização dos temas com o contexto histórico, social, político e econômico, promovendo uma visão ampla e crítica.\n",
        "    '''\n",
        "\n",
        "    instruction= INSTRUCTION_BASE+caracteristicas_especificas+RESPONSE_STRUCTURE\n",
        "\n",
        "    chs = Agent(\n",
        "        name=\"agente_chs\",\n",
        "        model=MODEL_ID,\n",
        "        description=\"Agente especializado em Ciências Humanas e suas Tecnologias para auxiliar alunos do ensino médio na preparação para o ENEM.\",\n",
        "        tools=[google_search],\n",
        "        instruction=instruction\n",
        "    )\n",
        "\n",
        "    # Executa o agente\n",
        "    entrada_do_agente_chs = f\"Disciplina:{disciplina}, tema: {tema}\"\n",
        "    resposta_do_agente = call_agent(chs, entrada_do_agente_chs)\n",
        "    return resposta_do_agente"
      ],
      "metadata": {
        "id": "gS6pGqTv1EyA"
      },
      "execution_count": null,
      "outputs": []
    },
    {
      "cell_type": "code",
      "source": [
        "##########################################\n",
        "# ---   Agente Professor CNT     --- #\n",
        "##########################################\n",
        "\n",
        "def agente_cnt(disciplina, tema):\n",
        "\n",
        "    caracteristicas_especificas = '''\n",
        "    Características específicas de Ciências da Natureza e suas Tecnologias:\n",
        "    - Conhecimento abrangente em Biologia, Física, Química e conhecimentos interdisciplinares.\n",
        "    - Utilização de experimentos relevantes e exemplos do cotidiano.\n",
        "    - Incentivo à investigação científica e ao raciocínio lógico.\n",
        "    - Ênfase na relevância para a compreensão do mundo natural e para o desenvolvimento de soluções para problemas reais.\n",
        "    - Foco na interpretação de gráficos, tabelas e dados experimentais.\n",
        "    - Abordagem Experimental: Enfatize a importância do método científico, da experimentação e da observação na construção do conhecimento científico.\n",
        "    '''\n",
        "\n",
        "    instruction= INSTRUCTION_BASE+caracteristicas_especificas+RESPONSE_STRUCTURE\n",
        "\n",
        "    cnt = Agent(\n",
        "        name=\"agente_cnt\",\n",
        "        model=MODEL_ID,\n",
        "        description=\"Agente especializado em Ciências da Natureza e suas Tecnologias para auxiliar alunos do ensino médio na preparação para o ENEM.\",\n",
        "        tools=[google_search],\n",
        "        instruction=instruction\n",
        "    )\n",
        "\n",
        "    # Executa o agente\n",
        "    entrada_do_agente_cnt = f\"Disciplina:{disciplina}, tema: {tema}\"\n",
        "    resposta_do_agente = call_agent(cnt, entrada_do_agente_cnt)\n",
        "    return resposta_do_agente"
      ],
      "metadata": {
        "id": "-3jgPtyfkzPT"
      },
      "execution_count": null,
      "outputs": []
    },
    {
      "cell_type": "code",
      "source": [
        "##########################################\n",
        "# ---   Agente Professor MT     --- #\n",
        "##########################################\n",
        "\n",
        "def agente_mt(disciplina, tema):\n",
        "\n",
        "    caracteristicas_especificas = '''\n",
        "    Características específicas de Matemática e suas Tecnologias:\n",
        "    - Conhecimento em Álgebra, Geometria, Estatística, Probabilidade e conhecimentos interdisciplinares.\n",
        "    - Utilização de analogias, exemplos do cotidiano e representações visuais para facilitar a compreensão.\n",
        "    - Incentivo ao raciocínio lógico e à resolução de problemas.\n",
        "    - Ênfase na relevância para o desenvolvimento do pensamento lógico, resolução de problemas e tomada de decisões.\n",
        "    - Foco na interpretação de gráficos, tabelas e modelagem matemática.\n",
        "    - Abordagem Prática: Enfatize a importância da prática, da resolução de exercícios e da aplicação da matemática em situações reais.\n",
        "    '''\n",
        "\n",
        "    instruction= INSTRUCTION_BASE+caracteristicas_especificas+RESPONSE_STRUCTURE\n",
        "\n",
        "    mt = Agent(\n",
        "        name=\"agente_mt\",\n",
        "        model=MODEL_ID,\n",
        "        description=\"Agente especializado em Matemática e suas Tecnologias para auxiliar alunos do ensino médio na preparação para o ENEM.\",\n",
        "        tools=[google_search],\n",
        "        instruction=instruction\n",
        "    )\n",
        "\n",
        "    # Executa o agente\n",
        "    entrada_do_agente_mt = f\"Disciplina:{disciplina}, tema: {tema}\"\n",
        "    resposta_do_agente = call_agent(mt, entrada_do_agente_mt)\n",
        "    return resposta_do_agente"
      ],
      "metadata": {
        "id": "L5hKp4eJlGeP"
      },
      "execution_count": null,
      "outputs": []
    },
    {
      "cell_type": "markdown",
      "source": [
        "### 3.3. O Revisor 🧐\n",
        "\n",
        "`agente_revisor()`: Esse agente é como seu amigo conselheiro! Ele pega a resposta do professor especialista e traduz para uma linguagem mais jovem e divertida, cheia de gírias e emojis! 😂 Ele também te dá aquela força e manda uns links de vídeos do YouTube pra você aprofundar seus estudos. 😉"
      ],
      "metadata": {
        "id": "FUbHu9mFnnnk"
      }
    },
    {
      "cell_type": "code",
      "source": [
        "##########################################\n",
        "# ---        Agente Revisor          --- #\n",
        "##########################################\n",
        "\n",
        "def agente_revisor(tema, response):\n",
        "\n",
        "    caracteristicas_especificas = '''\n",
        "    Você é um assistente pessoal de um estudante do ensino médio que está se preparando para a prova do ENEM.\n",
        "    Você deve revisar as respostas envidas pelos professores e traduzir para os jovens, para isso mantenha uma linguagem jovem,\n",
        "    seja extrovertido, incentive os alunos.\n",
        "    Ao encerrar a conversa envie um mensagem e boa sorte com links de videos do youtube sobre o tema conversado\n",
        "    '''\n",
        "\n",
        "    instruction= caracteristicas_especificas+RESPONSE_STRUCTURE\n",
        "\n",
        "    revisor = Agent(\n",
        "        name=\"agente_revisor\",\n",
        "        model=MODEL_ID,\n",
        "        description=\"Assistente pessoal de um estudante do ensino médio que está se preparando para a prova do ENEM.\",\n",
        "        tools=[google_search],\n",
        "        instruction=instruction\n",
        "    )\n",
        "\n",
        "    # Executa o agente\n",
        "    entrada_do_agente_auxiliar = f\"Tema: {tema}, Resposta do professor: {response}\"\n",
        "    resposta_do_agente = call_agent(revisor, entrada_do_agente_auxiliar)\n",
        "    return resposta_do_agente"
      ],
      "metadata": {
        "id": "hda05hS6JIGM"
      },
      "execution_count": null,
      "outputs": []
    },
    {
      "cell_type": "markdown",
      "source": [
        "### 3.4. O Auxiliar 🙋\n",
        "\n",
        "`agente_auxiliar()`: Esse agente é o seu assistente pessoal! Ele te ajuda a encontrar o professor certo pra sua dúvida. Se você disser a disciplina e o tema, ele te conecta direto com o especialista. Se você só disser o tema, ele usa o Google pra descobrir qual disciplina é e te encaminha pro professor certo. E se você só disser a disciplina, ele te ajuda a montar um cronograma de estudos! 🗓️"
      ],
      "metadata": {
        "id": "HqBnq8lvnxSn"
      }
    },
    {
      "cell_type": "code",
      "source": [
        "##########################################\n",
        "# ---        Agente Auxiliar         --- #\n",
        "##########################################\n",
        "\n",
        "def agente_auxiliar(disciplina, tema):\n",
        "\n",
        "    auxiliar = Agent(\n",
        "        name=\"agente_mt\",\n",
        "        model=MODEL_ID,\n",
        "        description=\"Assitente pessoal do estudante, que vai entender o que ele está solicitando e encaminha para os agentes especialistas.\",\n",
        "        tools=[google_search],\n",
        "        instruction='''\n",
        "        Você é um assistente pessoal do estudante, sua missão é entender ou encaminhar a solicitação do estudante para um dos agentes especialistas, de acordo com a necessidade dele.\n",
        "        O que significa:\n",
        "          - caso o aluno informe a disciplina e o tema, você irá identificar o agente correspondente e retorna a resposta, sem muito processamento.\n",
        "          - caso o aluno informe apenas o tema, você irá identificar a disciplina utilizando a ferramente de pesquisa google_search e o agente que deve ser executado e retorna a resposta.\n",
        "          - caso o aluno informe apenas a disciplina, você irá identificar o agente e o tema será montar um cronogramada de estudo para a disciplina até o dia da prova.\n",
        "\n",
        "        Estrutura da Resposta:\n",
        "        1. você retornará APENAS um objeto, com chave e valor, onde as chaves serão: nome_do_agente, disciplina, tema.\n",
        "        2. você irá identificar a area de acordo com a disciplina, da seguinte forma:\n",
        "        - Linguagens, Códigos e suas Tecnologias: [Língua Portuguesa, Literatura, Redação, Língua Estrangeira (Inglês ou Espanhol), Artes, Educação Física, Tecnologias da Informação e Comunicação]\n",
        "        - Ciências Humanas e suas Tecnologias: [História, Geografia, Filosofia, Sociologia]\n",
        "        - Ciências da Natureza e suas Tecnologias: [Química, Física, Biologia]\n",
        "        - Matemática e suas Tecnologias:[Matemática]\n",
        "        3. você irá identificar qual o agente certo de acordo com a area, da seguite forma:\n",
        "        - Linguagens, Códigos e suas Tecnologias: agente_ltc\n",
        "        - Ciências Humanas e suas Tecnologias: agente_chs\n",
        "        - Ciências da Natureza e suas Tecnologias: agente_cnt\n",
        "        - Matemática e suas Tecnologias: agente_mt\n",
        "\n",
        "        Exemplos de resposta:\n",
        "        - quando o aluno informa apenas disciplina, apenas o tema ou ambos:\n",
        "          resposata: {\"nome_do_agente\": \"agente_ltc\", \"disciplina\": \"literatura\", 'tema': \"barroco\"}\n",
        "        - quando o aluno informa apenas a disciplina:\n",
        "          resposata: {\"nome_do_agente\": \"agente_ltc\", \"disciplina\": \"literatura\", 'tema': 'monte um cronograma de estudos desta discipliana até o dia da prova'}\n",
        "        '''\n",
        "    )\n",
        "\n",
        "    # Executa o agente\n",
        "    entrada_do_agente_auxiliar = f\"disciplina: {disciplina}, tema: {tema}\"\n",
        "    resposta_do_agente = call_agent(auxiliar, entrada_do_agente_auxiliar)\n",
        "    return resposta_do_agente"
      ],
      "metadata": {
        "id": "e_M6-voQlXJ9"
      },
      "execution_count": null,
      "outputs": []
    },
    {
      "cell_type": "markdown",
      "source": [
        "## 4. A Função Secreta: map_to_dict() 🤫\n",
        "\n",
        "- O que isso faz? 🧐\n",
        "  - Essa função é tipo um \"tradutor\" que transforma a resposta do `agente_auxiliar()` (que está em formato string) em um dicionário do Python.\n",
        "\n",
        "- Por que isso é importante? 🤓\n",
        "  - Facilita a gente a pegar as informações da resposta do `agente_auxiliar()` (como o nome do professor especialista) e usar no código! 😉"
      ],
      "metadata": {
        "id": "76Cr7cuvn5Ii"
      }
    },
    {
      "cell_type": "code",
      "source": [
        "def map_to_dict(json_string):\n",
        "\n",
        "  limpo = json_string.strip().removeprefix(\"```json\").removesuffix(\"```\").strip()\n",
        "\n",
        "  # Agora tente converter para dicionário\n",
        "  try:\n",
        "    dicionario = json.loads(limpo)\n",
        "    print(\"Dicionário convertido:\", dicionario)\n",
        "    return dicionario\n",
        "  except json.JSONDecodeError as e:\n",
        "    print(\"Erro ao decodificar JSON:\", e)\n",
        "    return None"
      ],
      "metadata": {
        "id": "3Q66iT-L8559"
      },
      "execution_count": null,
      "outputs": []
    },
    {
      "cell_type": "markdown",
      "source": [
        "## 5. Colocando a Mão na Massa! 🚀\n",
        "- O que isso faz? 🤩\n",
        "  - Essa é a parte principal do código, onde a mágica acontece!\n",
        "  - Primeiro, ele te pergunta qual disciplina e tema você quer estudar. 🗣️\n",
        "  - Depois, ele chama o `agente_auxiliar()` pra te ajudar a encontrar o professor certo. 🙋\n",
        "  - Se você não digitar nada, ele te dá informações gerais sobre o ENEM. 📰\n",
        "  - Se você digitar a disciplina e/ou o tema, ele chama o professor especialista correspondente. 🧑‍🏫\n",
        "  - Por fim, ele chama o `agente_revisor()` pra traduzir a resposta do professor pra uma linguagem mais jovem e divertida! 😂\n",
        "\n",
        "- Por que isso é importante? 🧐\n",
        "  - É a parte que te permite interagir com os professores virtuais e receber a ajuda que você precisa pra detonar no ENEM! 💥"
      ],
      "metadata": {
        "id": "fCCeiDUSoSuG"
      }
    },
    {
      "cell_type": "code",
      "source": [
        "disciplina = input(\"❓ Por favor, fale a disciplina: \")\n",
        "tema = input(\"❓ Por favor, fale o tema: \")\n",
        "\n",
        "print(\"\\n --- Resultados do Resposta do Agente Auxiliar --- \\n\")\n",
        "resposta_auxiliar = agente_auxiliar(disciplina=disciplina, tema=tema)\n",
        "display(to_markdown(resposta_auxiliar))\n",
        "print(\"-----------------------------------------------\")\n",
        "\n",
        "if not disciplina and not tema:\n",
        "    resposta_final = \"traga informações atualizadas sobre a prova do enem\"\n",
        "    json_resposta = None\n",
        "else:\n",
        "    json_resposta = map_to_dict(resposta_auxiliar)\n",
        "    print(json_resposta)\n",
        "    agente = json_resposta.get('nome_do_agente')\n",
        "\n",
        "    if agente == 'agente_ltc':\n",
        "        resposta_final = agente_ltc(disciplina=json_resposta.get('disciplina'), tema=json_resposta.get('tema'))\n",
        "    elif agente == 'agente_chs':\n",
        "        resposta_final = agente_chs(disciplina=json_resposta.get('disciplina'), tema=json_resposta.get('tema'))\n",
        "    elif agente == 'agente_cnt':\n",
        "        resposta_final = agente_cnt(disciplina=json_resposta.get('disciplina'), tema=json_resposta.get('tema'))\n",
        "    elif agente == 'agente_mt':\n",
        "        resposta_final = agente_mt(disciplina=json_resposta.get('disciplina'), tema=json_resposta.get('tema'))\n",
        "    else:\n",
        "        resposta_final = \"traga informações atualizadas sobre a prova do enem\"\n",
        "        json_resposta = None\n",
        "\n",
        "print(resposta_final, json_resposta)\n",
        "print(\"\\n --- Resultados do Resposta do Final --- \\n\")\n",
        "display(to_markdown(agente_revisor(tema=json_resposta.get('tema') if json_resposta else \"prova do enem\", response=resposta_final)))\n",
        "print(\"-----------------------------------------------\")"
      ],
      "metadata": {
        "colab": {
          "base_uri": "https://localhost:8080/",
          "height": 1000
        },
        "id": "kmucyObzf3De",
        "outputId": "5be01bcd-9a11-4e36-8eed-ec0d686fd5bf"
      },
      "execution_count": null,
      "outputs": [
        {
          "output_type": "stream",
          "name": "stdout",
          "text": [
            "❓ Por favor, fale a disciplina: historia\n",
            "❓ Por favor, fale o tema: \n",
            "\n",
            " --- Resultados do Resposta do Agente Auxiliar --- \n",
            "\n"
          ]
        },
        {
          "output_type": "display_data",
          "data": {
            "text/plain": [
              "<IPython.core.display.Markdown object>"
            ],
            "text/markdown": "> ```json\n> {\"nome_do_agente\": \"agente_chs\", \"disciplina\": \"historia\", \"tema\": \"monte um cronograma de estudos desta discipliana até o dia da prova\"}\n> ```\n"
          },
          "metadata": {}
        },
        {
          "output_type": "stream",
          "name": "stdout",
          "text": [
            "-----------------------------------------------\n",
            "Dicionário convertido: {'nome_do_agente': 'agente_chs', 'disciplina': 'historia', 'tema': 'monte um cronograma de estudos desta discipliana até o dia da prova'}\n",
            "{'nome_do_agente': 'agente_chs', 'disciplina': 'historia', 'tema': 'monte um cronograma de estudos desta discipliana até o dia da prova'}\n",
            "Olá! Tudo bem? Preparar um cronograma de estudos eficiente é fundamental para garantir um bom desempenho em História no ENEM. Para te ajudar nessa jornada, preparei um plano detalhado que abrange os principais tópicos e te ajuda a organizar seus estudos até o dia da prova.\n",
            "\n",
            "**1. Panorama Geral da História para o ENEM**\n",
            "\n",
            "Primeiro, vamos entender o que o ENEM espera de você em História. A prova de Ciências Humanas e suas Tecnologias exige:\n",
            "\n",
            "*   **Compreensão dos processos históricos:** Analisar eventos, identificar suas causas e consequências e relacioná-los com o presente.\n",
            "*   **Domínio de diferentes escalas de tempo:** Compreender desde a longa duração (estruturas sociais, econômicas e culturais) até a curta duração (acontecimentos específicos).\n",
            "*   **Visão crítica e contextualizada:** Avaliar diferentes perspectivas sobre os fatos históricos, considerando o contexto social, político e econômico.\n",
            "*   **Interdisciplinaridade:** Conectar a História com outras áreas do conhecimento, como Geografia, Sociologia, Filosofia e Literatura.\n",
            "\n",
            "**2. Cronograma de Estudos Detalhado**\n",
            "\n",
            "Para montar seu cronograma, dividi os conteúdos de História em grandes temas e aloquei um tempo específico para cada um. Lembre-se de que este é um modelo, e você pode adaptá-lo de acordo com suas necessidades e ritmo de estudo.\n",
            "\n",
            "**Mês 1: Brasil Colônia e Império**\n",
            "\n",
            "*   **Semana 1:**\n",
            "    *   Chegada dos portugueses ao Brasil e período pré-colonial.\n",
            "    *   Sistema colonial: economia, sociedade e administração.\n",
            "    *   Resistências indígenas e revoltas coloniais.\n",
            "*   **Semana 2:**\n",
            "    *   Processo de Independência do Brasil.\n",
            "    *   Primeiro Reinado: características políticas e econômicas.\n",
            "    *   Período Regencial: conflitos e instabilidade política.\n",
            "*   **Semana 3:**\n",
            "    *   Segundo Reinado: economia cafeeira, modernização e escravidão.\n",
            "    *   Guerra do Paraguai e seus impactos no Brasil.\n",
            "    *   Crise da escravidão e movimento abolicionista.\n",
            "*   **Semana 4:**\n",
            "    *   Proclamação da República: causas e consequências.\n",
            "    *   Revisão geral: resolução de exercícios e análise de questões do ENEM.\n",
            "\n",
            "**Mês 2: República Velha e Era Vargas**\n",
            "\n",
            "*   **Semana 5:**\n",
            "    *   República Velha: política do café com leite e coronelismo.\n",
            "    *   Movimentos sociais e revoltas populares (Canudos, Contestado, etc.).\n",
            "    *   Economia e sociedade na Primeira República.\n",
            "*   **Semana 6:**\n",
            "    *   Revolução de 1930 e Era Vargas: contexto e características.\n",
            "    *   Governo Provisório e Constituição de 1934.\n",
            "    *   Estado Novo: autoritarismo, propaganda e industrialização.\n",
            "*   **Semana 7:**\n",
            "    *   Participação do Brasil na Segunda Guerra Mundial.\n",
            "    *   Crise do Estado Novo e redemocratização.\n",
            "    *   Revisão geral: resolução de exercícios e análise de questões do ENEM.\n",
            "\n",
            "**Mês 3: República Democrática e Ditadura Militar**\n",
            "\n",
            "*   **Semana 9:**\n",
            "    *   República Democrática (1946-1964): governos Dutra, Vargas, JK e Jânio.\n",
            "    *   Desenvolvimento econômico e industrialização.\n",
            "    *   Tensões políticas e sociais: Guerra Fria e populismo.\n",
            "*   **Semana 10:**\n",
            "    *   Golpe Militar de 1964: causas e consequências.\n",
            "    *   Regime Militar: repressão, censura e propaganda.\n",
            "    *   Milagre Econômico e endividamento externo.\n",
            "*   **Semana 11:**\n",
            "    *   Resistência à Ditadura: movimentos estudantis e guerrilhas.\n",
            "    *   Abertura política e processo de redemocratização.\n",
            "*   **Semana 12:**\n",
            "    *   Revisão geral: resolução de exercícios e análise de questões do ENEM.\n",
            "\n",
            "**Mês 4: História Contemporânea do Brasil e Mundo**\n",
            "\n",
            "*   **Semana 13:**\n",
            "    *   Nova República: governos Sarney, Collor, Itamar e FHC.\n",
            "    *   Processo de impeachment de Collor e Plano Real.\n",
            "    *   Globalização e neoliberalismo no Brasil.\n",
            "*   **Semana 14:**\n",
            "    *   Governos Lula e Dilma: políticas sociais e desenvolvimento econômico.\n",
            "    *   Crise econômica de 2008 e seus impactos no Brasil.\n",
            "    *   Desafios da democracia brasileira no século XXI.\n",
            "*   **Semana 15:**\n",
            "    *   Revolução Francesa e Era Napoleônica.\n",
            "    *   Revolução Industrial e seus impactos sociais e ambientais.\n",
            "*   **Semana 16:**\n",
            "    *   Primeira Guerra Mundial: causas, desenvolvimento e consequências.\n",
            "    *   Crise de 1929 e ascensão do nazifascismo.\n",
            "    *   Segunda Guerra Mundial: causas, desenvolvimento e consequências.\n",
            "    *   Guerra Fria: bipolaridade mundial, conflitos e corrida armamentista.\n",
            "*   **Semana 17:**\n",
            "    *   Descolonização da África e da Ásia.\n",
            "    *   Queda do Muro de Berlim e fim da União Soviética.\n",
            "    *   Globalização e novas ordem mundial.\n",
            "*   **Semana 18:**\n",
            "    *   Revisão geral: resolução de exercícios e análise de questões do ENEM.\n",
            "    *   Simulados: realizar simulados completos para testar seus conhecimentos e se familiarizar com o formato da prova.\n",
            "\n",
            "**3. Dicas Extras para um Estudo Eficaz**\n",
            "\n",
            "*   **Organize seu tempo:** Reserve horários específicos para estudar História, de preferência nos momentos em que você se sente mais concentrado.\n",
            "*   **Crie um ambiente de estudo:** Escolha um local tranquilo e livre de distrações.\n",
            "*   **Utilize diferentes materiais:** Consulte livros didáticos, apostilas, videoaulas, podcasts e sites especializados.\n",
            "*   **Faça resumos e mapas mentais:** Essas ferramentas te ajudam a organizar as informações e a memorizar os conteúdos.\n",
            "*   **Resolva questões e simulados:** A prática leva à perfeição! Quanto mais você praticar, mais familiarizado você estará com o estilo da prova.\n",
            "*   **Analise seus erros:** Não tenha medo de errar! Analise seus erros para identificar seus pontos fracos e direcionar seus estudos.\n",
            "*   **Descanse e relaxe:** O descanso é fundamental para um bom desempenho. Durma bem, alimente-se de forma saudável e reserve tempo para atividades que te dão prazer.\n",
            "\n",
            "**4. Questões do ENEM para Praticar**\n",
            "\n",
            "Para te ajudar a se familiarizar com o estilo da prova, separei algumas questões do ENEM que abordam os temas que vimos no cronograma. Tente resolvê-las e, em seguida, confira as resoluções comentadas:\n",
            "\n",
            "*   [Questões Resolvidas de História no ENEM](https://www.projovem.com.br/enem/questoes-resolvidas/historia/)\n",
            "*   [Questões de História do Brasil no ENEM](https://www.todamateria.com.br/questoes-de-historia-do-brasil-enem/)\n",
            "*   [Questões de História com Resolução em Vídeo](https://www.youtube.com/watch?v=BGTaxtlDQt4)\n",
            "\n",
            "**5. Fontes de Informação Confiáveis**\n",
            "\n",
            "*   **Livros didáticos:** Utilize livros didáticos atualizados e aprovados pelo MEC.\n",
            "*   **Sites especializados:** Consulte sites de instituições de ensino e pesquisa, como universidades e centros de estudo.\n",
            "*   **Videoaulas:** Assista a videoaulas de professores experientes e que conhecem o estilo do ENEM.\n",
            "*   **Plataformas de estudo:** Utilize plataformas de estudo online que oferecem materiais completos e personalizados.\n",
            "\n",
            "Espero que este cronograma te ajude a organizar seus estudos e a alcançar seus objetivos no ENEM! Lembre-se de que a preparação é fundamental para o sucesso.\n",
            "\n",
            "Se tiver alguma dúvida ou precisar de ajuda com algum tema específico, pode me perguntar!\n",
            " {'nome_do_agente': 'agente_chs', 'disciplina': 'historia', 'tema': 'monte um cronograma de estudos desta discipliana até o dia da prova'}\n",
            "\n",
            " --- Resultados do Resposta do Final --- \n",
            "\n"
          ]
        },
        {
          "output_type": "display_data",
          "data": {
            "text/plain": [
              "<IPython.core.display.Markdown object>"
            ],
            "text/markdown": "> E aí, futuro universitário! 🚀 Tudo sussa?!\n> \n> Se liga, porque o prof mandou um cronograma sinistro pra você detonar em História no ENEM! 💥📚 É tipo um mapa do tesouro que vai te guiar rumo à aprovação, hahaha! 😉\n> \n> **1. Preparando o Terreno:**\n> \n> *   O ENEM quer saber se você manja dos paranauês da História: causas, consequências, como as coisas se conectam com o presente, e por aí vai.\n> *   Tem que sacar que a História tem várias camadas: desde as estruturas mais antigas até os eventos mais recentes.\n> *   E óbvio, ter uma visão crítica, analisando tudo com um pé atrás e entendendo os diferentes lados da moeda.\n> *   Ah, e não se esqueça que História se mistura com outras matérias, tipo Geografia, Sociologia, Filosofia e Literatura. Fique ligado!\n> \n> **2. Desvendando o Cronograma:**\n> \n> O prof dividiu a matéria em 4 meses, pra você não se afogar no conteúdo. Mas relaxa, dá pra adaptar de acordo com o seu ritmo, beleza? 😉\n> \n> *   **Mês 1: Brasil Colonial e Imperial:**\n>     *   Semana 1: A chegada dos portugueses, a vida dos índios antes e o início da colônia.\n>     *   Semana 2: A Independência do Brasil e o Primeiro Reinado.\n>     *   Semana 3: O Segundo Reinado, o café, a escravidão e a Guerra do Paraguai.\n>     *   Semana 4: A Proclamação da República e uma revisão geral pra fixar tudo.\n> *   **Mês 2: República Velha e Era Vargas:**\n>     *   Semana 5: A política do café com leite, o coronelismo e as revoltas da galera.\n>     *   Semana 6: A Revolução de 30 e a Era Vargas, com Getúlio no poder.\n>     *   Semana 7: O Brasil na Segunda Guerra e a redemocratização.\n>     *   Semana 8: Revisão geral pra não esquecer de nada.\n> *   **Mês 3: República Democrática e Ditadura Militar:**\n>     *   Semana 9: Os governos depois de Vargas, o desenvolvimento e a Guerra Fria.\n>     *   Semana 10: O golpe de 64, a ditadura, a repressão e o \"milagre econômico\".\n>     *   Semana 11: A resistência contra a ditadura e a abertura política.\n>     *   Semana 12: Revisão geral pra garantir que tá tudo na mente.\n> *   **Mês 4: História Contemporânea do Brasil e do Mundo:**\n>     *   Semana 13: A Nova República, com Sarney, Collor, Itamar e FHC.\n>     *   Semana 14: Os governos de Lula e Dilma, as políticas sociais e a crise de 2008.\n>     *   Semana 15: A Revolução Francesa e a Era Napoleônica.\n>     *   Semana 16: As duas Guerras Mundiais e a crise de 29.\n>     *   Semana 17: A descolonização da África e da Ásia, a queda do Muro de Berlim e a globalização.\n>     *   Semana 18: Revisão geral e simulados pra testar seus conhecimentos.\n> \n> **3. Dicas de Ouro:**\n> \n> *   Tenha um horário fixo pra estudar História, de preferência quando você estiver mais ligado.\n> *   Arrume um lugar tranquilo, sem ninguém te perturbando.\n> *   Use tudo que puder: livros, vídeos, podcasts, sites... quanto mais, melhor.\n> *   Faça resumos e mapas mentais pra organizar as ideias.\n> *   Resolva questões e faça simulados pra pegar o jeito da prova.\n> *   Não se desespere com os erros, use-os pra aprender e melhorar.\n> *   E claro, descanse e relaxe pra não pirar o cabeção, hahaha!\n> \n> **4. Botando a Mão na Massa:**\n> \n> Pra você se sentir mais seguro, dá uma olhada nessas questões do ENEM já resolvidas:\n> \n> *   [Questões Resolvidas de História no ENEM](https://www.projovem.com.br/enem/questoes-resolvidas/historia/)\n> *   [Questões de História do Brasil no ENEM](https://www.todamateria.com.br/questoes-de-historia-do-brasil-enem/)\n> *   [Questões de História com Resolução em Vídeo](https://www.youtube.com/watch?v=BGTaxtlDQt4)\n> \n> **5. Aumentando o Vocabulário Histórico:**\n> \n> *   Use livros didáticos aprovados pelo governo.\n> *   Visite sites de universidades e centros de pesquisa.\n> *   Assista videoaulas de professores que manjam do ENEM.\n> *   Use plataformas de estudo online que te dão tudo mastigadinho.\n> \n> É isso aí! Com esse cronograma e as dicas do prof, você vai detonar em História no ENEM! 😎 Lembre-se que a preparação é a chave do sucesso. 😉\n> \n> Se tiver alguma dúvida, pode me chamar! 😉\n> \n> E pra te dar um gás extra, se liga nesses vídeos sobre os temas que vimos:\n> \n> *   História do Brasil: [https://www.youtube.com/watch?v=BGTaxtlDQt4](https://www.youtube.com/watch?v=BGTaxtlDQt4)\n> *   Revolução Francesa: [https://www.youtube.com/watch?v=fEq2kHvKhuw](https://www.youtube.com/watch?v=fEq2kHvKhuw)\n> *   Segunda Guerra Mundial: [https://www.youtube.com/watch?v=hirUJLv-cD8](https://www.youtube.com/watch?v=hirUJLv-cD8)\n> \n> Bons estudos e boa sorte! 🍀\n> \n"
          },
          "metadata": {}
        },
        {
          "output_type": "stream",
          "name": "stdout",
          "text": [
            "-----------------------------------------------\n"
          ]
        }
      ]
    }
  ]
}